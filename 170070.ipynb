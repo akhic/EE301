{
 "cells": [
  {
   "cell_type": "markdown",
   "metadata": {},
   "source": [
    "# EE301A Assignment 1\n",
    "- Use python3\n",
    "- Submit your \"rendered\" ipynb, i.e., with outputs of codes (plots and printed values) visible below\n",
    "- Use only numpy library for computing and signal processing, no other package allowed"
   ]
  },
  {
   "cell_type": "code",
   "execution_count": 1,
   "metadata": {},
   "outputs": [],
   "source": [
    "import numpy as np\n",
    "import matplotlib.pyplot as plt"
   ]
  },
  {
   "cell_type": "markdown",
   "metadata": {},
   "source": [
    "# Q1. Downsampling"
   ]
  },
  {
   "cell_type": "markdown",
   "metadata": {},
   "source": [
    "Generate a triangle wave with time period = T seconds, sampling rate Fs, and length N. Its amplitude should vary between 0 and 1, and both rising and falling should have same slopes (magnitude).\n",
    "NOTE: signal should start from zero amplitude.(i.e. rising edge should occur first)"
   ]
  },
  {
   "cell_type": "code",
   "execution_count": 2,
   "metadata": {},
   "outputs": [],
   "source": [
    "def generateTriangle(T, Fs, N):\n",
    "    '''\n",
    "    Return: \n",
    "        x: numpy array of shape (N,)\n",
    "    '''\n",
    "    \n",
    "    def val(t):\n",
    "        i = t%T\n",
    "        if(i<=T/2):\n",
    "            return 2*i/T\n",
    "        else:\n",
    "            return 2*(T-i)/T\n",
    "    x = np.zeros(N)\n",
    "    for i in range(N):\n",
    "        x[i] = val(i/Fs)\n",
    "    ### WRITE YOUR CODE HERE - 5 MARKS\n",
    "#     print(len(x))\n",
    "    return x\n"
   ]
  },
  {
   "cell_type": "markdown",
   "metadata": {},
   "source": [
    "Downsample x by a factor M (positive integer)"
   ]
  },
  {
   "cell_type": "code",
   "execution_count": 3,
   "metadata": {},
   "outputs": [],
   "source": [
    "def downsample(x, M):\n",
    "    '''\n",
    "    Return:\n",
    "        y: numpy array of shape similar to x, but shorter by a factor M\n",
    "    '''\n",
    "    t = len(x)//M\n",
    "    y = np.zeros(t)\n",
    "    \n",
    "    for r in range(t):\n",
    "            y[r] = x[M*r]\n",
    "    ### WRITE YOUR CODE HERE - 5 MARKS\n",
    "\n",
    "    return y\n",
    "# x = generateTriangle(2,10,100)\n",
    "# print(downsample(x,1))"
   ]
  },
  {
   "cell_type": "markdown",
   "metadata": {},
   "source": [
    "Plot x vs n"
   ]
  },
  {
   "cell_type": "code",
   "execution_count": 4,
   "metadata": {},
   "outputs": [],
   "source": [
    "def plot_discrete(x, xlabel='',ylabel=''):\n",
    "    plt.stem(np.arange(0,len(x)),x)\n",
    "    plt.xlabel(xlabel)\n",
    "    plt.ylabel(ylabel)\n",
    "    return"
   ]
  },
  {
   "cell_type": "markdown",
   "metadata": {},
   "source": [
    "Plot x vs t, using sampling rate Fs"
   ]
  },
  {
   "cell_type": "code",
   "execution_count": 5,
   "metadata": {},
   "outputs": [],
   "source": [
    "def plot_continuous(x, Fs, xlabel='',ylabel=''):\n",
    "    Ts=1/Fs\n",
    "    N = len(x)\n",
    "    duration_in_s = N*Ts\n",
    "    plt.plot(np.arange(0,duration_in_s,Ts), x)\n",
    "    plt.xlabel(xlabel)\n",
    "    plt.ylabel(ylabel)\n",
    "    return"
   ]
  },
  {
   "cell_type": "markdown",
   "metadata": {},
   "source": [
    "### Experiment (use the above functions only)\n",
    "- Consider a signal $x(t)$ which is a triangle wave with time period 0.1s and of total duration of 10 seconds. Sample it at Fs=100Hz. Plot $x(t)$ and $x[n]$. \n",
    "- Downsample $x[n]$ by a factor of 2 to get $y[n]$. Plot $y(t)$ and $y[n]$. \n",
    "- What is the time period of $y(t)$? (compute manually)\n",
    "\n",
    "Grading: 10 marks for correct plots and correct value of time period"
   ]
  },
  {
   "cell_type": "code",
   "execution_count": 6,
   "metadata": {},
   "outputs": [
    {
     "name": "stderr",
     "output_type": "stream",
     "text": [
      "C:\\Users\\akhil\\Anaconda3\\lib\\site-packages\\ipykernel_launcher.py:2: UserWarning: In Matplotlib 3.3 individual lines on a stem plot will be added as a LineCollection instead of individual lines. This significantly improves the performance of a stem plot. To remove this warning and switch to the new behaviour, set the \"use_line_collection\" keyword argument to True.\n",
      "  \n"
     ]
    },
    {
     "name": "stdout",
     "output_type": "stream",
     "text": [
      "time period of yt 0.05 seconds\n"
     ]
    },
    {
     "data": {
      "image/png": "[encoded data removed]",
      "text/plain": [
       "<Figure size 432x288 with 4 Axes>"
      ]
     },
     "metadata": {
      "needs_background": "light"
     },
     "output_type": "display_data"
    }
   ],
   "source": [
    "def expt1():\n",
    "    Fs = 100\n",
    "    T = 0.1\n",
    "    xn = generateTriangle(T,Fs,1000)\n",
    "    yn = downsample(xn,2)\n",
    "\n",
    "    xt = xn\n",
    "    yt = yn\n",
    "    ### WRITE YOUR CODE HERE - 10 MARKS\n",
    "\n",
    "    ### (the variables you get here will be plotted/printed by lines below)\n",
    "    T_yt = '0.05 seconds'\n",
    "    # I found it by reducing the number of sampling points as there as way too many to calculate the time period manually\n",
    "    plt.subplot(221);plot_continuous(xt, Fs, xlabel='t (in s)', ylabel='x(t)');\n",
    "    plt.subplot(222);plot_discrete(xn, xlabel='n', ylabel='x[n]');\n",
    "    plt.subplot(223);plot_continuous(yt, Fs, xlabel='t (in s)', ylabel='y(t)');\n",
    "    plt.subplot(224);plot_discrete(yn, xlabel='n', ylabel='y[n]');\n",
    "    print('time period of yt', T_yt) \n",
    "    return\n",
    "if __name__==\"__main__\":\n",
    "    expt1()"
   ]
  },
  {
   "cell_type": "markdown",
   "metadata": {},
   "source": [
    "# Q2. Moving Average Filter"
   ]
  },
  {
   "cell_type": "markdown",
   "metadata": {},
   "source": [
    "Generate a sine signal x[n] with frequency f Hz, sampled at Fs Hz, and length N"
   ]
  },
  {
   "cell_type": "code",
   "execution_count": 7,
   "metadata": {},
   "outputs": [],
   "source": [
    "def generateSine(f, Fs, N):\n",
    "    '''\n",
    "    Return: \n",
    "        x: numpy array of shape (N,)\n",
    "    '''\n",
    "    Ts = 1/Fs\n",
    "    sample = np.arange(0,N*Ts,Ts)\n",
    "    x = np.sin(2*np.pi*f*sample)\n",
    "    ### WRITE YOUR CODE HERE - 5 MARKS\n",
    "\n",
    "    return x"
   ]
  },
  {
   "cell_type": "markdown",
   "metadata": {},
   "source": [
    "Build a moving average filter of length M. It should be causal. Assume x=0 for n<0;\n",
    "use same formula as discussed in class."
   ]
  },
  {
   "cell_type": "code",
   "execution_count": 8,
   "metadata": {},
   "outputs": [],
   "source": [
    "def filter_MA(x, M):\n",
    "    '''\n",
    "    Return:\n",
    "        y: numpy array of shape similar to x\n",
    "    '''\n",
    "    N = len(x)\n",
    "    y = np.zeros(N)\n",
    "    for t in range(N):\n",
    "            for i in range(M):\n",
    "                if(t-i<0):\n",
    "                    break\n",
    "                else:\n",
    "                    y[t] = y[t] + x[t-i]\n",
    "            y[t] = y[t]/M\n",
    "    ### WRITE YOUR CODE HERE - 5 MARKS\n",
    "\n",
    "    return y\n",
    "\n",
    "# x1 = generateSine(1,10,20)\n",
    "# y1 = filter_MA(x1,10)\n",
    "# print(x1)\n",
    "# print(y1)"
   ]
  },
  {
   "cell_type": "markdown",
   "metadata": {},
   "source": [
    "Generate Gaussian noise signal with g[n] ~ $\\mathcal{N}(\\mu, \\sigma)$ of length N "
   ]
  },
  {
   "cell_type": "code",
   "execution_count": 9,
   "metadata": {},
   "outputs": [],
   "source": [
    "def noiseGenerator(mu, sigma, N):\n",
    "    '''\n",
    "    Return: \n",
    "        g: numpy array of shape (N,)\n",
    "    '''\n",
    "    g = np.random.normal(mu,sigma,N)\n",
    "    ### WRITE YOUR CODE HERE - 3 MARKS\n",
    "\n",
    "    return g"
   ]
  },
  {
   "cell_type": "markdown",
   "metadata": {},
   "source": [
    "Adder: adds two signal x and g"
   ]
  },
  {
   "cell_type": "code",
   "execution_count": 10,
   "metadata": {},
   "outputs": [],
   "source": [
    "def adder(x, g):\n",
    "    '''\n",
    "    Return:\n",
    "        y: numpy array with y[n]=x[n]+g[n]\n",
    "    '''\n",
    "    y = x + g\n",
    "    ### WRITE YOUR CODE HERE - 2 MARKS\n",
    "\n",
    "    return y"
   ]
  },
  {
   "cell_type": "markdown",
   "metadata": {},
   "source": [
    "### Experiment (use the above functions only)\n",
    "- Construct a signal $x(t)$ with frequency 10 Hz of duration 0.5s. Sample it at 100Hz to get $x[n]$. Plot $x[n]$\n",
    "- Generate random noise $g[n] ~ \\mathcal{N}(0,0.3)$. Plot $g[n]$\n",
    "- Add noise to the signal. Plot the mixture $y[n]$\n",
    "- Pass y[n] through a moving average filter with M=4. Plot its output $z[n]$. Note that it looks more like $x[n]$, i.e. clean signal.\n",
    "\n",
    "Grading: 10 marks for correct plots"
   ]
  },
  {
   "cell_type": "code",
   "execution_count": 11,
   "metadata": {},
   "outputs": [
    {
     "name": "stderr",
     "output_type": "stream",
     "text": [
      "C:\\Users\\akhil\\Anaconda3\\lib\\site-packages\\ipykernel_launcher.py:2: UserWarning: In Matplotlib 3.3 individual lines on a stem plot will be added as a LineCollection instead of individual lines. This significantly improves the performance of a stem plot. To remove this warning and switch to the new behaviour, set the \"use_line_collection\" keyword argument to True.\n",
      "  \n"
     ]
    },
    {
     "data": {
      "image/png": "[encoded data removed]",
      "text/plain": [
       "<Figure size 432x288 with 4 Axes>"
      ]
     },
     "metadata": {
      "needs_background": "light"
     },
     "output_type": "display_data"
    }
   ],
   "source": [
    "def expt2():\n",
    "\n",
    "    ### WRITE YOUR CODE HERE - 10 MARKS\n",
    "    f = 10\n",
    "    Fs = 100\n",
    "    N = 50\n",
    "    mu = 0\n",
    "    sigma = 0.3\n",
    "    M = 4\n",
    "    xn = generateSine(f,Fs,N)\n",
    "    gn = noiseGenerator(mu,sigma,N)\n",
    "    yn = adder(xn,gn)\n",
    "    zn = filter_MA(yn,M)\n",
    "    ### WRITE YOUR CODE HERE (the variables you get here will be plotted/printed by lines below)\n",
    "    \n",
    "    plt.subplot(221);plot_discrete(xn, xlabel='n', ylabel='x[n]')\n",
    "    plt.subplot(222);plot_discrete(gn, xlabel='n', ylabel='g[n]')\n",
    "    plt.subplot(223);plot_discrete(yn, xlabel='n', ylabel='y[n]')\n",
    "    plt.subplot(224);plot_discrete(zn, xlabel='n', ylabel='z[n]')\n",
    "    return\n",
    "if __name__==\"__main__\":\n",
    "    expt2()"
   ]
  },
  {
   "cell_type": "markdown",
   "metadata": {},
   "source": [
    "# Q3. Frequency Estimation"
   ]
  },
  {
   "cell_type": "markdown",
   "metadata": {},
   "source": [
    "Generate a frequency modulated signal x[n], which is $x(t)=\\sin(2\\pi f(t)t)$ with $f(t)=f_1+0.1\\sin(2\\pi f_2 t)$, sampled at a rate Fs and of length N."
   ]
  },
  {
   "cell_type": "code",
   "execution_count": 12,
   "metadata": {},
   "outputs": [],
   "source": [
    "def generate_FM(f1, f2, Fs, N):\n",
    "    '''\n",
    "    Return: \n",
    "        x: numpy array of shape (N,)\n",
    "    '''\n",
    "    Ts = 1/Fs\n",
    "    sample = np.arange(0,N*Ts,Ts)\n",
    "    sample1 = np.sin(2*np.pi*f2*sample)\n",
    "    for i in range(N):\n",
    "        sample1[i] *= 0.1\n",
    "        sample1[i] += f1\n",
    "    x = np.sin(2*np.pi*sample1*sample)\n",
    "    ### WRITE YOUR CODE HERE - 5 MARKS\n",
    "\n",
    "    return x\n",
    "# generate_FM(10,100,100,100)"
   ]
  },
  {
   "cell_type": "markdown",
   "metadata": {},
   "source": [
    "Extract window: Given a signal x[n], take small windows of size W seconds with a hop or shift of H seconds. Use Fs as sampling rate. Return i'th window"
   ]
  },
  {
   "cell_type": "code",
   "execution_count": 13,
   "metadata": {},
   "outputs": [],
   "source": [
    "def extractWindow(x, W, H, Fs, i):\n",
    "    '''\n",
    "    Return: \n",
    "        xw: num\n",
    "        py array of shape similar to x, but truncated\n",
    "    '''\n",
    "    Ts = 1/Fs\n",
    "    xw = np.zeros(0)\n",
    "    for t in range(len(x)):\n",
    "        if(t*Ts<=((i-1)*H+W) and t*Ts>=(i-1)*H):\n",
    "            xw = np.insert(xw,len(xw),x[t])\n",
    "#             xw.append(x[t])\n",
    "                \n",
    "    ### WRITE YOUR CODE HERE - 5 MARKS\n",
    "\n",
    "    return xw\n",
    "# y = generate_FM(10,100,100,100)\n",
    "# print(y)\n",
    "# extractWindow(y,0.1,0.2,100,2)"
   ]
  },
  {
   "cell_type": "markdown",
   "metadata": {},
   "source": [
    "Estimate the fundamental frequency F0 of x[n] in Hz, taking the sampling rate as Fs.\n",
    "1. Use autocorrelation function\n",
    "2. Use difference function"
   ]
  },
  {
   "cell_type": "code",
   "execution_count": 14,
   "metadata": {},
   "outputs": [],
   "source": [
    "def estimateF0_autocorr(x, Fs):\n",
    "    F0_Hz = 0\n",
    "    n = 0\n",
    "    N = len(x)\n",
    "    prev = 0\n",
    "    def auto(x,l):\n",
    "        s = 0\n",
    "        for i in range(N-l):\n",
    "            s += x[i]*x[i+l]\n",
    "        return s\n",
    "    \n",
    "    for i in range(1,N-2,1):\n",
    "        if(auto(x,i)>auto(x,i-1) and auto(x,i)>auto(x,i+1)):\n",
    "            if(auto(x,i)>prev):\n",
    "                prev = auto(x,i)\n",
    "                n = i\n",
    "    if(n==0):\n",
    "        return F0_Hz\n",
    "    F0_Hz = Fs/n\n",
    "    ### WRITE YOUR CODE HERE - 10 MARKS\n",
    "\n",
    "    return F0_Hz"
   ]
  },
  {
   "cell_type": "code",
   "execution_count": 15,
   "metadata": {},
   "outputs": [],
   "source": [
    "def estimateF0_diff(x, Fs):\n",
    "    F0_Hz = 0\n",
    "    n = 0\n",
    "    N = len(x)\n",
    "    def sq_diff(x,l):\n",
    "        s = 0;\n",
    "        for i in range(N-l):\n",
    "            s += (x[i]-x[i+l])*(x[i]-x[i+l])\n",
    "        return s\n",
    "    for i in range(1,N-1,1):\n",
    "        if(sq_diff(x,i)<sq_diff(x,i-1) and sq_diff(x,i)<sq_diff(x,i+1)):\n",
    "                n = i\n",
    "                break\n",
    "            \n",
    "    ### WRITE YOUR CODE HERE - 10 MARKS\n",
    "    if(n==0):\n",
    "        return F0_Hz\n",
    "    F0_Hz = Fs/n\n",
    "    return F0_Hz\n",
    "y=np.array([1,2,3,1,2,3,1,2,3])\n",
    "\n",
    "# y = generateSine(1,10,200)\n",
    "# p = estimateF0_autocorr(y,10)\n",
    "# q = estimateF0_diff(y,10)\n",
    "# print(p)\n",
    "# print(q)"
   ]
  },
  {
   "cell_type": "markdown",
   "metadata": {},
   "source": [
    "### Experiment (use the above defined functions only)\n",
    "- Generate an FM signal with f1=1Hz and f2=0.1Hz. Use Fs=20Hz for duration of 5 secs. Plot $x[n]$\n",
    "- $x[n]$ is a quasi-stationary signal. Take small windows with W=2s and H=1s. Estimate F0 for each window using autocorrelation function. Plot F0_autocorr vs t.\n",
    "- Repeat F0 estimation using difference function. Plot F0_diff vs t."
   ]
  },
  {
   "cell_type": "code",
   "execution_count": 17,
   "metadata": {},
   "outputs": [
    {
     "name": "stdout",
     "output_type": "stream",
     "text": [
      "[ 0.          0.30995534  0.59097244  0.81419847  0.95580533  0.99969811\n",
      "  0.93955096  0.77989972  0.53610478  0.23311177 -0.09692813 -0.41797824\n",
      " -0.69404909 -0.89331853 -0.99196004 -0.97720242 -0.84920674 -0.62146687\n",
      " -0.31960786  0.02134814  0.36097798  0.65826764  0.8766595   0.98869971\n",
      "  0.97967187  0.84971049  0.61406852  0.30144813 -0.04944015 -0.39468118\n",
      " -0.69071732 -0.89994696 -0.99561647 -0.96534486 -0.81279617 -0.55726101\n",
      " -0.2311911   0.12399043  0.46324517  0.74372649  0.93026441]\n",
      "[ 0.36097798  0.65826764  0.8766595   0.98869971  0.97967187  0.84971049\n",
      "  0.61406852  0.30144813 -0.04944015 -0.39468118 -0.69071732 -0.89994696\n",
      " -0.99561647 -0.96534486 -0.81279617 -0.55726101 -0.2311911   0.12399043\n",
      "  0.46324517  0.74372649  0.93026441  0.99980541  0.94423343  0.77122524\n",
      "  0.50306293  0.17360081 -0.17617593 -0.50339011 -0.7686131  -0.9406232\n",
      " -1.         -0.94114828 -0.77256403 -0.51538793 -0.20050431  0.13538954\n",
      "  0.45421683  0.7209027   0.90719153  0.99449118  0.9754804 ]\n",
      "[ 0.93026441  0.99980541  0.94423343  0.77122524  0.50306293  0.17360081\n",
      " -0.17617593 -0.50339011 -0.7686131  -0.9406232  -1.         -0.94114828\n",
      " -0.77256403 -0.51538793 -0.20050431  0.13538954  0.45421683  0.7209027\n",
      "  0.90719153  0.99449118  0.9754804   0.85437986  0.64595005  0.37341891\n",
      "  0.06564562 -0.24611546 -0.53147596 -0.76385785 -0.92284586 -0.99576235\n",
      " -0.97837872 -0.87477357 -0.69643256 -0.46074832 -0.18911907  0.09514066\n",
      "  0.36887162  0.61094445  0.80379797  0.93454887  0.99562918]\n",
      "[ 0.9754804   0.85437986  0.64595005  0.37341891  0.06564562 -0.24611546\n",
      " -0.53147596 -0.76385785 -0.92284586 -0.99576235 -0.97837872 -0.87477357\n",
      " -0.69643256 -0.46074832 -0.18911907  0.09514066  0.36887162  0.61094445\n",
      "  0.80379797  0.93454887  0.99562918  0.98495362  0.90565736  0.76547437\n",
      "  0.57584521  0.35085229  0.10607952 -0.14251422 -0.37963264 -0.59153222\n",
      " -0.76672559 -0.89647671 -0.97508375 -0.99995926 -0.97152879 -0.89297664\n",
      " -0.76987224 -0.6097121  -0.4214118  -0.21477969]\n"
     ]
    },
    {
     "name": "stderr",
     "output_type": "stream",
     "text": [
      "C:\\Users\\akhil\\Anaconda3\\lib\\site-packages\\ipykernel_launcher.py:2: UserWarning: In Matplotlib 3.3 individual lines on a stem plot will be added as a LineCollection instead of individual lines. This significantly improves the performance of a stem plot. To remove this warning and switch to the new behaviour, set the \"use_line_collection\" keyword argument to True.\n",
      "  \n"
     ]
    },
    {
     "data": {
      "image/png": "[encoded data removed]",
      "text/plain": [
       "<Figure size 432x288 with 3 Axes>"
      ]
     },
     "metadata": {
      "needs_background": "light"
     },
     "output_type": "display_data"
    }
   ],
   "source": [
    "def expt3():\n",
    "\n",
    "    ### WRITE YOUR CODE HERE - 10 MARKS\n",
    "    f1 = 1\n",
    "    f2 = 0.1\n",
    "    Fs = 20\n",
    "    N = 100\n",
    "    xn = generate_FM(f1,f2,Fs,N)\n",
    "    W = 2\n",
    "    H = 1\n",
    "    F0_autocorr = np.zeros(4)\n",
    "    F0_diff = np.zeros(4)\n",
    "    for i in range(1,5):\n",
    "        y = extractWindow(xn, W, H, Fs, i)\n",
    "        print(y)\n",
    "        F0_autocorr[i-1] = estimateF0_autocorr(y, Fs)\n",
    "        F0_diff[i-1] = estimateF0_diff(y, Fs)\n",
    "    ### WRITE YOUR CODE HERE (the variables you get here will be plotted/printed by lines below)\n",
    "#     print(F0_autocorr)\n",
    "#     print(F0_diff)\n",
    "    plt.subplot(311);plot_discrete(xn, xlabel='n', ylabel='x[n]');\n",
    "    plt.subplot(312);plot_continuous(F0_autocorr,Fs, xlabel='window index',ylabel='F0_autocorr');\n",
    "    plt.subplot(313);plot_continuous(F0_diff,Fs, xlabel='window index',ylabel='F0_diff');\n",
    "   \n",
    "    return\n",
    "if __name__==\"__main__\":\n",
    "    expt3()"
   ]
  },
  {
   "cell_type": "code",
   "execution_count": null,
   "metadata": {},
   "outputs": [],
   "source": []
  }
 ],
 "metadata": {
  "kernelspec": {
   "display_name": "Python 3",
   "language": "python",
   "name": "python3"
  },
  "language_info": {
   "codemirror_mode": {
    "name": "ipython",
    "version": 3
   },
   "file_extension": ".py",
   "mimetype": "text/x-python",
   "name": "python",
   "nbconvert_exporter": "python",
   "pygments_lexer": "ipython3",
   "version": "3.7.4"
  }
 },
 "nbformat": 4,
 "nbformat_minor": 2
}
